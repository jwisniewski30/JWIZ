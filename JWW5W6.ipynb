{
 "cells": [
  {
   "cell_type": "code",
   "execution_count": null,
   "id": "455e9de1",
   "metadata": {},
   "outputs": [],
   "source": [
    "# Weeks 5 and 6\n",
    "## Justin Wisniewski"
   ]
  },
  {
   "cell_type": "code",
   "execution_count": null,
   "id": "a548f3da",
   "metadata": {},
   "outputs": [],
   "source": [
    "# Activity 7"
   ]
  },
  {
   "cell_type": "code",
   "execution_count": null,
   "id": "407f5518",
   "metadata": {},
   "outputs": [],
   "source": [
    "import requests\n",
    "import pandas as pd\n",
    "import xlrd\n",
    "from bs4 import BeautifulSoup\n",
    "import numpy as np\n",
    "import matplotlib.pyplot as plt"
   ]
  },
  {
   "cell_type": "code",
   "execution_count": null,
   "id": "b22a84e7",
   "metadata": {},
   "outputs": [],
   "source": [
    "# 1. Open the page in a separate Chrome/Firefox tab and use something like an\n",
    "\t# Inspect Element tool to view the source HTML and understand its structure\n",
    "url = \"https://en.wikipedia.org/wiki/List_of_countries_by_GDP_(nominal)\""
   ]
  },
  {
   "cell_type": "code",
   "execution_count": null,
   "id": "a9520844",
   "metadata": {},
   "outputs": [],
   "source": [
    "# Downloading contents of the web page\n",
    "data = requests.get(url).text"
   ]
  },
  {
   "cell_type": "code",
   "execution_count": null,
   "id": "a57f6d83",
   "metadata": {},
   "outputs": [],
   "source": [
    "# Creating BeautifulSoup object\n",
    "soup = BeautifulSoup(data, 'html.parser')"
   ]
  },
  {
   "cell_type": "code",
   "execution_count": null,
   "id": "d9c2be82",
   "metadata": {},
   "outputs": [],
   "source": [
    "tables = soup.find('table', class_='wikitable')"
   ]
  },
  {
   "cell_type": "code",
   "execution_count": null,
   "id": "690efd25",
   "metadata": {},
   "outputs": [],
   "source": [
    "# How many tables are there\n",
    "all_tables = soup.find_all(\"table\")\n",
    "print(\"Total number of tables are {} \".format(len(all_tables)))"
   ]
  },
  {
   "cell_type": "code",
   "execution_count": null,
   "id": "b16033f1",
   "metadata": {},
   "outputs": [],
   "source": [
    "# 4. Find the right table using bs4\n",
    "df = pd.read_html(str(tables))"
   ]
  },
  {
   "cell_type": "code",
   "execution_count": null,
   "id": "74cfe49a",
   "metadata": {},
   "outputs": [],
   "source": [
    "dft = df[0]\n",
    "dft"
   ]
  },
  {
   "cell_type": "code",
   "execution_count": null,
   "id": "c858412c",
   "metadata": {},
   "outputs": [],
   "source": [
    "# 5. Separate the source names and their corresponding data\n",
    "# 6. Get the source names from the list of sources you have created\n",
    "# 7. Separate the header and data from the data that you separated before for the first\n",
    "\t# source only, and then create a DataFrame using that\n",
    "subsetdfIMF = dft[['Country/Territory', 'UN Region', 'IMF[1][13]']]\n",
    "subsetdfIMF"
   ]
  },
  {
   "cell_type": "code",
   "execution_count": null,
   "id": "c9a8b6ca",
   "metadata": {},
   "outputs": [],
   "source": [
    "# 8. Repeat the last task for the other two data sources\n",
    "subsetdfUN = dft[['Country/Territory', 'UN Region', 'United Nations[14]']]\n",
    "subsetdfUN"
   ]
  },
  {
   "cell_type": "code",
   "execution_count": null,
   "id": "d172fe5c",
   "metadata": {},
   "outputs": [],
   "source": [
    "# 8. Repeat the last task for the other two data sources\n",
    "subsetdfWB = dft[['Country/Territory', 'UN Region', 'World Bank[15]']]\n",
    "subsetdfWB"
   ]
  },
  {
   "cell_type": "code",
   "execution_count": null,
   "id": "37f399b6",
   "metadata": {},
   "outputs": [],
   "source": [
    "# Activity 8"
   ]
  },
  {
   "cell_type": "code",
   "execution_count": null,
   "id": "8fcc2622",
   "metadata": {},
   "outputs": [],
   "source": [
    "import pandas as pd\n",
    "import numpy as np\n",
    "import matplotlib.pyplot as plt\n",
    "\n",
    "%matplotlib inline"
   ]
  },
  {
   "cell_type": "code",
   "execution_count": null,
   "id": "4c25a60e",
   "metadata": {},
   "outputs": [],
   "source": [
    "df = pd.read_csv(\"visit_data.csv\")"
   ]
  },
  {
   "cell_type": "code",
   "execution_count": null,
   "id": "be4ec3d2",
   "metadata": {},
   "outputs": [],
   "source": [
    "df.head()"
   ]
  },
  {
   "cell_type": "code",
   "execution_count": null,
   "id": "70b1bd35",
   "metadata": {},
   "outputs": [],
   "source": [
    "# Are there any duplicates\n",
    "print(\"First name is duplictaed - {}\".format(any(df.first_name.duplicated())))\n",
    "print(\"Last name is duplictaed - {}\".format(any(df.last_name.duplicated())))\n",
    "print(\"Email is duplictaed - {}\".format(any(df.email.duplicated())))"
   ]
  },
  {
   "cell_type": "code",
   "execution_count": null,
   "id": "88363851",
   "metadata": {},
   "outputs": [],
   "source": [
    "# Do any essential column have NaN\n",
    "print(\"The column Email contains NaN - %r \" % df.email.isnull().values.any())\n",
    "print(\"The column IP Address contains NaN - %s \" % df.ip_address.isnull().values.any())\n",
    "print(\"The column Visit contains NaN - %s \" % df.visit.isnull().values.any())"
   ]
  },
  {
   "cell_type": "code",
   "execution_count": null,
   "id": "b5a5049e",
   "metadata": {},
   "outputs": [],
   "source": [
    "# Store the previous size of the data set and compare it with the new size\n",
    "size_prev = df.shape\n",
    "df = df[np.isfinite(df['visit'])] # This is an inplace operation. After this operation the original DataFrame is lost.\n",
    "size_after = df.shape"
   ]
  },
  {
   "cell_type": "code",
   "execution_count": null,
   "id": "8f95635b",
   "metadata": {},
   "outputs": [],
   "source": [
    "# Notice how parameterized format is used and then the indexing is working inside the quote marks\n",
    "print(\"The size of previous data was - {prev[0]} rows and the size of the new one is - {after[0]} rows\".\n",
    "      format(prev=size_prev, after=size_after))"
   ]
  },
  {
   "cell_type": "code",
   "execution_count": null,
   "id": "f6170be4",
   "metadata": {},
   "outputs": [],
   "source": [
    "plt.boxplot(df.visit, notch=True)"
   ]
  },
  {
   "cell_type": "code",
   "execution_count": null,
   "id": "c8c360bd",
   "metadata": {},
   "outputs": [],
   "source": [
    "df1 = df[(df['visit'] <= 2900) & (df['visit'] >= 100)]  # Notice the powerful & operator"
   ]
  },
  {
   "cell_type": "code",
   "execution_count": null,
   "id": "f8f23092",
   "metadata": {},
   "outputs": [],
   "source": [
    "# New data size\n",
    "print(\"After getting rid of outliers the new size of the data is - {}\".format(*df1.shape))"
   ]
  },
  {
   "cell_type": "code",
   "execution_count": null,
   "id": "9d378e77",
   "metadata": {},
   "outputs": [],
   "source": [
    "# Insert data into a SQL Lite database - create a table with the following data"
   ]
  },
  {
   "cell_type": "code",
   "execution_count": 22,
   "id": "acc25fb5",
   "metadata": {},
   "outputs": [
    {
     "ename": "OperationalError",
     "evalue": "table JbyWiz already exists",
     "output_type": "error",
     "traceback": [
      "\u001b[1;31m---------------------------------------------------------------------------\u001b[0m",
      "\u001b[1;31mOperationalError\u001b[0m                          Traceback (most recent call last)",
      "Input \u001b[1;32mIn [22]\u001b[0m, in \u001b[0;36m<cell line: 4>\u001b[1;34m()\u001b[0m\n\u001b[0;32m      2\u001b[0m conn \u001b[38;5;241m=\u001b[39m sqlite3\u001b[38;5;241m.\u001b[39mconnect(\u001b[38;5;124m'\u001b[39m\u001b[38;5;124mdatabase.db\u001b[39m\u001b[38;5;124m'\u001b[39m)\n\u001b[0;32m      3\u001b[0m c \u001b[38;5;241m=\u001b[39m conn\u001b[38;5;241m.\u001b[39mcursor()\n\u001b[1;32m----> 4\u001b[0m \u001b[43mc\u001b[49m\u001b[38;5;241;43m.\u001b[39;49m\u001b[43mexecute\u001b[49m\u001b[43m(\u001b[49m\u001b[38;5;124;43m'''\u001b[39;49m\u001b[38;5;124;43mCREATE TABLE JbyWiz\u001b[39;49m\n\u001b[0;32m      5\u001b[0m \u001b[38;5;124;43m(Name, Address, City)\u001b[39;49m\u001b[38;5;124;43m'''\u001b[39;49m\u001b[43m)\u001b[49m\n\u001b[0;32m      6\u001b[0m c\u001b[38;5;241m.\u001b[39mexecute(\u001b[38;5;124m\"\u001b[39m\u001b[38;5;124mINSERT INTO JbyWiz VALUES (\u001b[39m\u001b[38;5;124m'\u001b[39m\u001b[38;5;124mJustin\u001b[39m\u001b[38;5;124m'\u001b[39m\u001b[38;5;124m,12345)\u001b[39m\u001b[38;5;124m\"\u001b[39m)\n\u001b[0;32m      7\u001b[0m c\u001b[38;5;241m.\u001b[39mexecute(\u001b[38;5;124m\"\u001b[39m\u001b[38;5;124mINSERT INTO JbyWiz VALUES (\u001b[39m\u001b[38;5;124m'\u001b[39m\u001b[38;5;124mBill\u001b[39m\u001b[38;5;124m'\u001b[39m\u001b[38;5;124m,6789)\u001b[39m\u001b[38;5;124m\"\u001b[39m)\n",
      "\u001b[1;31mOperationalError\u001b[0m: table JbyWiz already exists"
     ]
    }
   ],
   "source": [
    "import sqlite3\n",
    "conn = sqlite3.connect('database.db')\n",
    "c = conn.cursor()\n",
    "c.execute('''CREATE TABLE JbyWiz\n",
    "(Name, Address, City)''')\n",
    "c.execute(\"INSERT INTO JbyWiz VALUES ('Justin',12345)\")\n",
    "c.execute(\"INSERT INTO JbyWiz VALUES ('Bill',6789)\")\n",
    "c.execute(\"INSERT INTO JbyWiz VALUES ('Frank',654)\")\n",
    "conn.commit()\n",
    "conn.close()"
   ]
  },
  {
   "cell_type": "code",
   "execution_count": 21,
   "id": "4c641ecd",
   "metadata": {},
   "outputs": [
    {
     "name": "stdout",
     "output_type": "stream",
     "text": [
      "[('Justin', 12345), ('Bill', 6789), ('Frank', 654)]\n"
     ]
    }
   ],
   "source": [
    "import sqlite3\n",
    "conn = sqlite3.connect('database.db')\n",
    "c = conn.cursor()\n",
    "c.execute('SELECT Name, Address FROM JbyWiz')\n",
    "result = c.fetchall()\n",
    "print(result)\n",
    "conn.close()"
   ]
  },
  {
   "cell_type": "code",
   "execution_count": null,
   "id": "52ca6161",
   "metadata": {},
   "outputs": [],
   "source": []
  }
 ],
 "metadata": {
  "kernelspec": {
   "display_name": "Python 3 (ipykernel)",
   "language": "python",
   "name": "python3"
  },
  "language_info": {
   "codemirror_mode": {
    "name": "ipython",
    "version": 3
   },
   "file_extension": ".py",
   "mimetype": "text/x-python",
   "name": "python",
   "nbconvert_exporter": "python",
   "pygments_lexer": "ipython3",
   "version": "3.9.12"
  }
 },
 "nbformat": 4,
 "nbformat_minor": 5
}
